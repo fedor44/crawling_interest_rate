{
  "nbformat": 4,
  "nbformat_minor": 0,
  "metadata": {
    "colab": {
      "provenance": [],
      "authorship_tag": "ABX9TyMYosdcLeySvc/jtcOjkW6u",
      "include_colab_link": true
    },
    "kernelspec": {
      "name": "python3",
      "display_name": "Python 3"
    },
    "language_info": {
      "name": "python"
    }
  },
  "cells": [
    {
      "cell_type": "markdown",
      "metadata": {
        "id": "view-in-github",
        "colab_type": "text"
      },
      "source": [
        "<a href=\"https://colab.research.google.com/github/fedor44/crawling_interest_rate/blob/main/Untitled27.ipynb\" target=\"_parent\"><img src=\"https://colab.research.google.com/assets/colab-badge.svg\" alt=\"Open In Colab\"/></a>"
      ]
    },
    {
      "cell_type": "code",
      "execution_count": 44,
      "metadata": {
        "id": "7qToIDtm2H10"
      },
      "outputs": [],
      "source": [
        "import requests\n",
        "from bs4 import BeautifulSoup\n",
        "from datetime import datetime\n",
        "import datetime as dt\n",
        "import pandas as pd\n",
        "\n",
        "# 한국은행 기준금리 크롤링\n",
        "res = requests.get('https://www.bok.or.kr/portal/singl/baseRate/list.do?dataSeCd=01&menuNo=200643')\n",
        "soup = BeautifulSoup(res.content, 'html.parser')\n",
        "\n",
        "interest_rate = soup.find_all('td')\n",
        "interest_rate_length = len(interest_rate)\n",
        "\n",
        "year = ''\n",
        "mon_day = ''\n",
        "rate = 0.0\n",
        "interest_rate_list = []\n",
        "\n",
        "# 데이터 수집\n",
        "for i in range(0, interest_rate_length):\n",
        "  count = i % 3\n",
        "\n",
        "  if count == 1:\n",
        "    mon_day = interest_rate[i].text\n",
        "  elif count == 2:\n",
        "    rate = interest_rate[i].text    \n",
        "    date = year + '-' + mon_day\n",
        "    date_time = datetime.strptime(date, '%Y-%m월 %d일').date()\n",
        "    line = []\n",
        "    line.append(date_time)\n",
        "    line.append(rate)\n",
        "    interest_rate_list.append(line)\n",
        "  elif count == 0:\n",
        "    year = interest_rate[i].text\n",
        "\n",
        "# csv 파일로 로드한 정보 저장 (전처리 필요)\n",
        "items = pd.DataFrame(interest_rate_list)\n",
        "items.columns = ['변경일자', '기준금리']\n",
        "items.to_csv('기준금리정보.csv', index=False, encoding=\"euc-kr\")"
      ]
    }
  ]
}